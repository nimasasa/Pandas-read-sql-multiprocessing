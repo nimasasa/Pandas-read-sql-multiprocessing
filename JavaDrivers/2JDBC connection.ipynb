{
 "cells": [
  {
   "cell_type": "code",
   "execution_count": 1,
   "metadata": {},
   "outputs": [],
   "source": [
    "import jaydebeapi"
   ]
  },
  {
   "cell_type": "code",
   "execution_count": 2,
   "metadata": {},
   "outputs": [],
   "source": [
    "user='Nsadghi'\n",
    "password ='good4gap'"
   ]
  },
  {
   "cell_type": "code",
   "execution_count": 5,
   "metadata": {},
   "outputs": [],
   "source": [
    "import sys\n",
    "sys.path.append('C:/Users/nsadghi/Desktop/JavaDrivers')"
   ]
  },
  {
   "cell_type": "code",
   "execution_count": 6,
   "metadata": {},
   "outputs": [
    {
     "ename": "java.lang.RuntimeExceptionPyRaisable",
     "evalue": "java.lang.RuntimeException: Class com.teradata.jdbc.TeraDriver not found",
     "output_type": "error",
     "traceback": [
      "\u001b[1;31m---------------------------------------------------------------------------\u001b[0m",
      "\u001b[1;31mjava.lang.RuntimeExceptionPyRaisable\u001b[0m      Traceback (most recent call last)",
      "\u001b[1;32m<ipython-input-6-7370a3ed31d1>\u001b[0m in \u001b[0;36m<module>\u001b[1;34m()\u001b[0m\n\u001b[0;32m      2\u001b[0m                           \u001b[0murl\u001b[0m\u001b[1;33m=\u001b[0m\u001b[1;34m\"jdbc:teradata://10.101.83.123/\"\u001b[0m\u001b[1;33m,\u001b[0m\u001b[1;33m\u001b[0m\u001b[0m\n\u001b[0;32m      3\u001b[0m                           \u001b[0mdriver_args\u001b[0m\u001b[1;33m=\u001b[0m\u001b[1;33m[\u001b[0m\u001b[0muser\u001b[0m\u001b[1;33m,\u001b[0m\u001b[0mpassword\u001b[0m\u001b[1;33m]\u001b[0m\u001b[1;33m,\u001b[0m\u001b[1;33m\u001b[0m\u001b[0m\n\u001b[1;32m----> 4\u001b[1;33m                           jars=['tdgssconfig.jar','terajdbc4.jar'])\n\u001b[0m",
      "\u001b[1;32mC:\\Users\\nsadghi\\AppData\\Local\\Continuum\\anaconda2\\lib\\site-packages\\jaydebeapi\\__init__.pyc\u001b[0m in \u001b[0;36mconnect\u001b[1;34m(jclassname, url, driver_args, jars, libs)\u001b[0m\n\u001b[0;32m    379\u001b[0m     \u001b[1;32melse\u001b[0m\u001b[1;33m:\u001b[0m\u001b[1;33m\u001b[0m\u001b[0m\n\u001b[0;32m    380\u001b[0m         \u001b[0mlibs\u001b[0m \u001b[1;33m=\u001b[0m \u001b[1;33m[\u001b[0m\u001b[1;33m]\u001b[0m\u001b[1;33m\u001b[0m\u001b[0m\n\u001b[1;32m--> 381\u001b[1;33m     \u001b[0mjconn\u001b[0m \u001b[1;33m=\u001b[0m \u001b[0m_jdbc_connect\u001b[0m\u001b[1;33m(\u001b[0m\u001b[0mjclassname\u001b[0m\u001b[1;33m,\u001b[0m \u001b[0murl\u001b[0m\u001b[1;33m,\u001b[0m \u001b[0mdriver_args\u001b[0m\u001b[1;33m,\u001b[0m \u001b[0mjars\u001b[0m\u001b[1;33m,\u001b[0m \u001b[0mlibs\u001b[0m\u001b[1;33m)\u001b[0m\u001b[1;33m\u001b[0m\u001b[0m\n\u001b[0m\u001b[0;32m    382\u001b[0m     \u001b[1;32mreturn\u001b[0m \u001b[0mConnection\u001b[0m\u001b[1;33m(\u001b[0m\u001b[0mjconn\u001b[0m\u001b[1;33m,\u001b[0m \u001b[0m_converters\u001b[0m\u001b[1;33m)\u001b[0m\u001b[1;33m\u001b[0m\u001b[0m\n\u001b[0;32m    383\u001b[0m \u001b[1;33m\u001b[0m\u001b[0m\n",
      "\u001b[1;32mC:\\Users\\nsadghi\\AppData\\Local\\Continuum\\anaconda2\\lib\\site-packages\\jaydebeapi\\__init__.pyc\u001b[0m in \u001b[0;36m_jdbc_connect_jpype\u001b[1;34m(jclassname, url, driver_args, jars, libs)\u001b[0m\n\u001b[0;32m    188\u001b[0m             \u001b[1;32mreturn\u001b[0m \u001b[0mjpype\u001b[0m\u001b[1;33m.\u001b[0m\u001b[0mJArray\u001b[0m\u001b[1;33m(\u001b[0m\u001b[0mjpype\u001b[0m\u001b[1;33m.\u001b[0m\u001b[0mJByte\u001b[0m\u001b[1;33m,\u001b[0m \u001b[1;36m1\u001b[0m\u001b[1;33m)\u001b[0m\u001b[1;33m(\u001b[0m\u001b[0mdata\u001b[0m\u001b[1;33m)\u001b[0m\u001b[1;33m\u001b[0m\u001b[0m\n\u001b[0;32m    189\u001b[0m     \u001b[1;31m# register driver for DriverManager\u001b[0m\u001b[1;33m\u001b[0m\u001b[1;33m\u001b[0m\u001b[0m\n\u001b[1;32m--> 190\u001b[1;33m     \u001b[0mjpype\u001b[0m\u001b[1;33m.\u001b[0m\u001b[0mJClass\u001b[0m\u001b[1;33m(\u001b[0m\u001b[0mjclassname\u001b[0m\u001b[1;33m)\u001b[0m\u001b[1;33m\u001b[0m\u001b[0m\n\u001b[0m\u001b[0;32m    191\u001b[0m     \u001b[1;32mif\u001b[0m \u001b[0misinstance\u001b[0m\u001b[1;33m(\u001b[0m\u001b[0mdriver_args\u001b[0m\u001b[1;33m,\u001b[0m \u001b[0mdict\u001b[0m\u001b[1;33m)\u001b[0m\u001b[1;33m:\u001b[0m\u001b[1;33m\u001b[0m\u001b[0m\n\u001b[0;32m    192\u001b[0m         \u001b[0mProperties\u001b[0m \u001b[1;33m=\u001b[0m \u001b[0mjpype\u001b[0m\u001b[1;33m.\u001b[0m\u001b[0mjava\u001b[0m\u001b[1;33m.\u001b[0m\u001b[0mutil\u001b[0m\u001b[1;33m.\u001b[0m\u001b[0mProperties\u001b[0m\u001b[1;33m\u001b[0m\u001b[0m\n",
      "\u001b[1;32mC:\\Users\\nsadghi\\AppData\\Local\\Continuum\\anaconda2\\lib\\site-packages\\jpype\\_jclass.pyc\u001b[0m in \u001b[0;36mJClass\u001b[1;34m(name)\u001b[0m\n\u001b[0;32m     71\u001b[0m     \u001b[0mjc\u001b[0m \u001b[1;33m=\u001b[0m \u001b[0m_jpype\u001b[0m\u001b[1;33m.\u001b[0m\u001b[0mfindClass\u001b[0m\u001b[1;33m(\u001b[0m\u001b[0mname\u001b[0m\u001b[1;33m)\u001b[0m\u001b[1;33m\u001b[0m\u001b[0m\n\u001b[0;32m     72\u001b[0m     \u001b[1;32mif\u001b[0m \u001b[0mjc\u001b[0m \u001b[1;32mis\u001b[0m \u001b[0mNone\u001b[0m\u001b[1;33m:\u001b[0m\u001b[1;33m\u001b[0m\u001b[0m\n\u001b[1;32m---> 73\u001b[1;33m         \u001b[1;32mraise\u001b[0m \u001b[0m_RUNTIMEEXCEPTION\u001b[0m\u001b[1;33m.\u001b[0m\u001b[0mPYEXC\u001b[0m\u001b[1;33m(\u001b[0m\u001b[1;34m\"Class %s not found\"\u001b[0m \u001b[1;33m%\u001b[0m \u001b[0mname\u001b[0m\u001b[1;33m)\u001b[0m\u001b[1;33m\u001b[0m\u001b[0m\n\u001b[0m\u001b[0;32m     74\u001b[0m \u001b[1;33m\u001b[0m\u001b[0m\n\u001b[0;32m     75\u001b[0m     \u001b[1;32mreturn\u001b[0m \u001b[0m_getClassFor\u001b[0m\u001b[1;33m(\u001b[0m\u001b[0mjc\u001b[0m\u001b[1;33m)\u001b[0m\u001b[1;33m\u001b[0m\u001b[0m\n",
      "\u001b[1;31mjava.lang.RuntimeExceptionPyRaisable\u001b[0m: java.lang.RuntimeException: Class com.teradata.jdbc.TeraDriver not found"
     ]
    }
   ],
   "source": [
    "conn = jaydebeapi.connect(jclassname='com.teradata.jdbc.TeraDriver',\n",
    "                          url=\"jdbc:teradata://10.101.83.123/\",\n",
    "                          driver_args=[user,password],\n",
    "                          jars=['tdgssconfig.jar','terajdbc4.jar'])"
   ]
  },
  {
   "cell_type": "code",
   "execution_count": null,
   "metadata": {},
   "outputs": [],
   "source": [
    "\n",
    "            # calculate calweek\n",
    "            curs = conn.cursor()\n",
    "            today = datetime.date.today()\n",
    "            idx = (today.weekday() + 1) % 7 # MON = 0, SUN = 6 -> SUN = 0 .. SAT = 6\n",
    "            sat = today - datetime.timedelta(7+idx-6)\n",
    "            cal_week_par = pd.read_sql(\"select CalWeek from  OS_SAND.week_list where WkDate = '\" + sat.strftime('%m/%d/%Y')+ \"'\" , conn)\n",
    "            print(\"cal_week_par\")\n",
    "            print(cal_week_par.head())\n",
    "            \n",
    "            replacements = {\n",
    "                '$cal_week_par$': str(cal_week_par['CalWeek'].values[0]),\n",
    "                '$opr_mkt_id$': self.all_options['markets'][self.mkt_id],\n",
    "                '$opr_brd_id$': self.all_options['brands'][self.brd_id],\n",
    "                '$opr_chnl_id$': self.all_options['channels'][self.chnl_id]\n",
    "            }\n",
    "            \n",
    "            # get correct list of tablenames from teradata\n",
    "            table_name2 = pd.read_sql(\"select distinct  OPR_MDSE_DIV_ID from VIEWXREF.TGPFX_GLBL_PRD_FLATTENED_XREF where opr_brd_id = \" + replacements['$opr_brd_id$'] + \" and opr_mkt_id = \" + replacements['$opr_mkt_id$'] +\" and opr_chnl_id = \" + replacements['$opr_chnl_id$'], conn)\n",
    "            #print(\"table_name2\")\n",
    "            table_name2.head()\n",
    "            corp_table = pd.read_csv(\"/mnt/main/csv_data/mdse_corp_id_table.csv\") #which actually needs to be parametrized based on BMC\n",
    "            #print(\"corp table\")\n",
    "            #print(corp_table.head())\n",
    "            brands = corp_table['Brand']==self.brd_id\n",
    "            markets = corp_table['Market']==self.mkt_id\n",
    "            channels =corp_table['Channel']==self.chnl_id\n",
    "            "
   ]
  }
 ],
 "metadata": {
  "kernelspec": {
   "display_name": "Python 2",
   "language": "python",
   "name": "python2"
  },
  "language_info": {
   "codemirror_mode": {
    "name": "ipython",
    "version": 2
   },
   "file_extension": ".py",
   "mimetype": "text/x-python",
   "name": "python",
   "nbconvert_exporter": "python",
   "pygments_lexer": "ipython2",
   "version": "2.7.15"
  }
 },
 "nbformat": 4,
 "nbformat_minor": 2
}
