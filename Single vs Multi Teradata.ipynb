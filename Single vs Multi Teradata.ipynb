{
 "cells": [
  {
   "cell_type": "markdown",
   "metadata": {},
   "source": [
    "# Single Process"
   ]
  },
  {
   "cell_type": "code",
   "execution_count": 11,
   "metadata": {},
   "outputs": [
    {
     "name": "stdout",
     "output_type": "stream",
     "text": [
      "Connection has been made succesfully!\n"
     ]
    }
   ],
   "source": [
    "import jaydebeapi\n",
    "import os\n",
    "import pandas as pd\n",
    "import time\n",
    "\n",
    "user='Nsadghi'\n",
    "password ='good4gap'\n",
    "mypath='C:/Users/nsadghi/Desktop/JavaDrivers'\n",
    "\n",
    "import sys\n",
    "sys.path.append(mypath)\n",
    "\n",
    "\n",
    "from os import listdir\n",
    "from os.path import isfile, join\n",
    "\n",
    "try:\n",
    "    conn_teradata = jaydebeapi.connect(jclassname=\"com.teradata.jdbc.TeraDriver\",\n",
    "                                               url=\"jdbc:teradata://10.101.83.123/LOGMECH=TD2\",\n",
    "                                               driver_args=[user, password],\n",
    "                                               jars=[mypath+'/tdgssconfig.jar', mypath+'/terajdbc4.jar'])\n",
    "    if conn_teradata.cursor():\n",
    "        print 'Connection has been made succesfully!'\n",
    "\n",
    "except:\n",
    "    print 'Failed!'"
   ]
  },
  {
   "cell_type": "code",
   "execution_count": null,
   "metadata": {},
   "outputs": [],
   "source": [
    "start_time = time.time()\n",
    "DF = pd.read_sql_query('''<my_query>''', conn_teradata)\n",
    "print(\"--- %s seconds ---\" % (time.time() - start_time))"
   ]
  },
  {
   "cell_type": "markdown",
   "metadata": {},
   "source": [
    "# Multi Process"
   ]
  },
  {
   "cell_type": "code",
   "execution_count": null,
   "metadata": {},
   "outputs": [],
   "source": [
    "import sys\n",
    "import multiprocessing as mp\n",
    "import time\n",
    "import pandas as pd\n",
    "from functools import partial\n",
    "from tqdm import tqdm\n",
    "\n",
    "from QueryWrapper import QueryWrapper\n",
    "from teradata_utils import *\n",
    "\n",
    "if __name__ == \"__main__\":\n",
    "    start_time = time.time()\n",
    "\n",
    "    query_raw = QueryWrapper(mypath,'nima.txt')\n",
    "    \n",
    "    inputs = (8,1,1,'2016-12-01','2017-07-31',710,42)\n",
    "    \n",
    "    start_date_index = 3\n",
    "    end_date_index = 4\n",
    "    \n",
    "    \n",
    "    dates = list(date_range(inputs[start_date_index], inputs[end_date_index], mp.cpu_count()))\n",
    "    \n",
    "    list_inputs=[]\n",
    "    for d in dates:\n",
    "        lstinputs = list(inputs)\n",
    "        lstinputs[start_date_index] = d[0]\n",
    "        lstinputs[end_date_index] = d[1]\n",
    "        inputs = tuple(lstinputs)\n",
    "        list_inputs.append(inputs)\n",
    "        \n",
    "    pool = mp.Pool(processes = mp.cpu_count())  \n",
    "    dfs=[]\n",
    "    for df in tqdm(pool.imap_unordered(partial(read_chunks, query=query_raw, user='Nsadghi'),list_inputs), total=mp.cpu_count()):\n",
    "        dfs.append(df)\n",
    "        \n",
    "    pool.close()  \n",
    "    pool.join() \n",
    "    \n",
    "    dfs = pd.concat(dfs, axis=0)\n",
    "    print(\"--- %s seconds ---\" % (time.time() - start_time))"
   ]
  }
 ],
 "metadata": {
  "kernelspec": {
   "display_name": "Python 2",
   "language": "python",
   "name": "python2"
  },
  "language_info": {
   "codemirror_mode": {
    "name": "ipython",
    "version": 2
   },
   "file_extension": ".py",
   "mimetype": "text/x-python",
   "name": "python",
   "nbconvert_exporter": "python",
   "pygments_lexer": "ipython2",
   "version": "2.7.15"
  }
 },
 "nbformat": 4,
 "nbformat_minor": 2
}
